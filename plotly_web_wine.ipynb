{
 "cells": [
  {
   "cell_type": "code",
   "execution_count": 70,
   "id": "2e811a0a",
   "metadata": {},
   "outputs": [],
   "source": [
    "from dash import html,dcc,Dash,callback,Input,Output"
   ]
  },
  {
   "cell_type": "code",
   "execution_count": 71,
   "id": "3243e84b",
   "metadata": {},
   "outputs": [],
   "source": [
    "import plotly.express as px\n"
   ]
  },
  {
   "cell_type": "code",
   "execution_count": 72,
   "id": "87c01e86",
   "metadata": {},
   "outputs": [],
   "source": [
    "from sklearn import datasets"
   ]
  },
  {
   "cell_type": "code",
   "execution_count": 73,
   "id": "e7a8fc54",
   "metadata": {},
   "outputs": [],
   "source": [
    "import pandas as pd"
   ]
  },
  {
   "cell_type": "raw",
   "id": "ca455d5c",
   "metadata": {},
   "source": [
    "###############Data set############################"
   ]
  },
  {
   "cell_type": "code",
   "execution_count": 74,
   "id": "3c51c784",
   "metadata": {},
   "outputs": [],
   "source": [
    "def load_dataset():\n",
    "    wine = datasets.load_wine()\n",
    "    wine_df = pd.DataFrame(wine.data, columns=wine.feature_names)\n",
    "    wine_df[\"WineType\"] = [wine.target_names[typ] for typ in wine.target]\n",
    "    return wine, wine_df\n",
    "\n",
    "wine, wine_df = load_dataset()"
   ]
  },
  {
   "cell_type": "raw",
   "id": "21b0ca9b",
   "metadata": {},
   "source": [
    "################CHARTS################################"
   ]
  },
  {
   "cell_type": "code",
   "execution_count": 75,
   "id": "5b45a36f",
   "metadata": {},
   "outputs": [],
   "source": [
    "def create_histogram(col_name):\n",
    "    fig = px.histogram(wine_df, x=col_name, color=\"WineType\", nbins=50)\n",
    "    fig.update_traces(marker={\"line\":{\"width\": 2, \"color\": \"black\"}})\n",
    "    fig.update_layout(paper_bgcolor=\"#e5ecf6\", margin={\"t\":0})\n",
    "    return fig\n"
   ]
  },
  {
   "cell_type": "raw",
   "id": "819646d2",
   "metadata": {},
   "source": [
    "################################Scatter Charts##########################"
   ]
  },
  {
   "cell_type": "code",
   "execution_count": 76,
   "id": "78192a3e",
   "metadata": {},
   "outputs": [],
   "source": [
    "def create_scatter_chart(x_axis, y_axis):\n",
    "    fig = px.scatter(wine_df, x=x_axis, y=y_axis, color='WineType')\n",
    "    fig.update_traces(marker={\"size\":12, \"line\":{\"width\": 2, \"color\": \"black\"}})\n",
    "    fig.update_layout(paper_bgcolor=\"#e5ecf6\", margin={\"t\":0})\n",
    "    return fig"
   ]
  },
  {
   "cell_type": "raw",
   "id": "257cf94d",
   "metadata": {},
   "source": [
    "##################Pie Chart ######################################"
   ]
  },
  {
   "cell_type": "code",
   "execution_count": 78,
   "id": "c3760437",
   "metadata": {},
   "outputs": [],
   "source": [
    "def create_pie_chart():\n",
    "    wine_cnt = wine_df.groupby(\"WineType\").count()[[\"alcohol\"]]\\\n",
    "        .rename(columns={\"alcohol\": \"Count\"}).reset_index()\n",
    "    fig = px.pie(wine_cnt, values=wine_cnt.Count, names=wine_cnt.WineType, hole=0.5)\n",
    "    fig.update_traces(marker={\"line\":{\"width\": 2, \"color\": \"black\"}})\n",
    "    fig.update_layout(paper_bgcolor=\"#e5ecf6\", margin={\"t\":0})\n",
    "    return fig"
   ]
  },
  {
   "cell_type": "raw",
   "id": "2554c915",
   "metadata": {},
   "source": [
    "#############################bar Chart#####################################"
   ]
  },
  {
   "cell_type": "code",
   "execution_count": 79,
   "id": "ebb143eb",
   "metadata": {},
   "outputs": [],
   "source": [
    "def create_bar_chart(col_name):\n",
    "    fig = px.histogram(wine_df, x=\"WineType\", y=col_name, color=\"WineType\", histfunc=\"avg\")\n",
    "    fig.update_traces(marker={\"line\":{\"width\": 2, \"color\": \"black\"}})\n",
    "    fig.update_layout(paper_bgcolor=\"#e5ecf6\", margin={\"t\":0})\n",
    "    return fig"
   ]
  },
  {
   "cell_type": "markdown",
   "id": "71dd155a",
   "metadata": {},
   "source": [
    "#####################WIDGETS##########################################\n"
   ]
  },
  {
   "cell_type": "code",
   "execution_count": 80,
   "id": "03d1671d",
   "metadata": {},
   "outputs": [],
   "source": [
    "hist_drop = dcc.Dropdown(id=\"hist_column\", options=wine.feature_names, value=\"alcohol\",\n",
    "                          clearable=False, className=\"text-dark p-2\")\n",
    "x_axis = dcc.Dropdown(id=\"x_axis\", options=wine.feature_names, value=\"alcohol\",\n",
    "                          clearable=False, className=\"text-dark p-2\")\n",
    "y_axis = dcc.Dropdown(id=\"y_axis\", options=wine.feature_names, value=\"malic_acid\",\n",
    "                          clearable=False, className=\"text-dark p-2\")\n",
    "avg_drop = dcc.Dropdown(id=\"avg_drop\", options=wine.feature_names, value=\"malic_acid\",\n",
    "                          clearable=False, className=\"text-dark p-2\")"
   ]
  },
  {
   "cell_type": "markdown",
   "id": "e86ec3da",
   "metadata": {},
   "source": [
    "#####################LAYOUT#################\n"
   ]
  },
  {
   "cell_type": "code",
   "execution_count": 81,
   "id": "a8a83e2e",
   "metadata": {},
   "outputs": [],
   "source": [
    "external_css = [\"https://cdn.jsdelivr.net/npm/bootstrap@5.3.1/dist/css/bootstrap.min.css\", ]\n",
    "app = Dash(__name__, external_stylesheets=external_css)\n",
    "\n",
    "sidebar = html.Div([\n",
    "    html.Br(),\n",
    "    html.H3(\"Sidebar\", className=\"text-center fw-bold fs-2\"),\n",
    "    html.Br(),\n",
    "    html.H3(\"Histogram Dropdown\", className=\"fs-4\"),\n",
    "    hist_drop,\n",
    "    html.Br(),\n",
    "    html.H3(\"Scatter Chart Dropdowns\", className=\"fs-4\"),\n",
    "    x_axis, y_axis,\n",
    "    html.Br(),\n",
    "    html.H3(\"Bar Chart Dropdown\", className=\"fs-4\"),\n",
    "    avg_drop\n",
    "    ], className=\"col-2 bg-dark text-white\", style={\"height\": \"100vh\"}\n",
    ")\n",
    "\n",
    "main_content = html.Div([\n",
    "    html.Br(),\n",
    "    html.H2(\"Wine Dataset Analysis\", className=\"text-center fw-bold fs-1\"),\n",
    "    html.Div([\n",
    "        dcc.Graph(id=\"histogram\", className=\"col-5\"),\n",
    "        dcc.Graph(id=\"scatter_chart\", className=\"col-5\")\n",
    "        ], className=\"row\"),\n",
    "    html.Div([\n",
    "        dcc.Graph(id=\"bar_chart\", className=\"col-5\"),\n",
    "        dcc.Graph(id=\"pie_chart\", figure=create_pie_chart(), className=\"col-5\"),\n",
    "        ],className=\"row\"),\n",
    "    ], className=\"col\", style={\"height\": \"100vh\", \"background-color\": \"#e5ecf6\"}\n",
    ")\n",
    "\n",
    "app.layout = html.Div([\n",
    "    html.Div([sidebar, main_content], className=\"row\")\n",
    "], className=\"container-fluid\", style={\"height\": \"100vh\"})\n"
   ]
  },
  {
   "cell_type": "markdown",
   "id": "326c12c6",
   "metadata": {},
   "source": [
    "###################################CALL BACK###########################"
   ]
  },
  {
   "cell_type": "code",
   "execution_count": 82,
   "id": "dff359f8",
   "metadata": {},
   "outputs": [],
   "source": [
    "@callback(Output(\"histogram\", \"figure\"), [Input(\"hist_column\", \"value\"), ])\n",
    "def update_histogram(hist_column):\n",
    "    return create_histogram(hist_column)\n",
    "\n",
    "@callback(Output(\"scatter_chart\", \"figure\"), [Input(\"x_axis\", \"value\"), Input(\"y_axis\", \"value\"),])\n",
    "def update_scatter(x_axis, y_axis):\n",
    "    return create_scatter_chart(x_axis, y_axis)\n",
    "\n",
    "@callback(Output(\"bar_chart\", \"figure\"), [Input(\"avg_drop\", \"value\"), ])\n",
    "def update_bar(avg_drop):\n",
    "    return create_bar_chart(avg_drop)\n"
   ]
  },
  {
   "cell_type": "code",
   "execution_count": 83,
   "id": "ab9eb22f",
   "metadata": {},
   "outputs": [
    {
     "data": {
      "text/html": [
       "\n",
       "        <iframe\n",
       "            width=\"100%\"\n",
       "            height=\"650\"\n",
       "            src=\"http://127.0.0.1:4050/\"\n",
       "            frameborder=\"0\"\n",
       "            allowfullscreen\n",
       "            \n",
       "        ></iframe>\n",
       "        "
      ],
      "text/plain": [
       "<IPython.lib.display.IFrame at 0x1b3b0106a90>"
      ]
     },
     "metadata": {},
     "output_type": "display_data"
    }
   ],
   "source": [
    "if __name__ == \"__main__\":\n",
    "    app.run(port=4050)"
   ]
  },
  {
   "cell_type": "code",
   "execution_count": null,
   "id": "726ee760",
   "metadata": {},
   "outputs": [],
   "source": []
  },
  {
   "cell_type": "code",
   "execution_count": 16,
   "id": "d7012444",
   "metadata": {},
   "outputs": [
    {
     "data": {
      "text/html": [
       "<div>\n",
       "<style scoped>\n",
       "    .dataframe tbody tr th:only-of-type {\n",
       "        vertical-align: middle;\n",
       "    }\n",
       "\n",
       "    .dataframe tbody tr th {\n",
       "        vertical-align: top;\n",
       "    }\n",
       "\n",
       "    .dataframe thead th {\n",
       "        text-align: right;\n",
       "    }\n",
       "</style>\n",
       "<table border=\"1\" class=\"dataframe\">\n",
       "  <thead>\n",
       "    <tr style=\"text-align: right;\">\n",
       "      <th></th>\n",
       "      <th>alcohol</th>\n",
       "      <th>malic_acid</th>\n",
       "      <th>ash</th>\n",
       "      <th>alcalinity_of_ash</th>\n",
       "      <th>magnesium</th>\n",
       "      <th>total_phenols</th>\n",
       "      <th>flavanoids</th>\n",
       "      <th>nonflavanoid_phenols</th>\n",
       "      <th>proanthocyanins</th>\n",
       "      <th>color_intensity</th>\n",
       "      <th>hue</th>\n",
       "      <th>od280/od315_of_diluted_wines</th>\n",
       "      <th>proline</th>\n",
       "      <th>WineType</th>\n",
       "    </tr>\n",
       "  </thead>\n",
       "  <tbody>\n",
       "    <tr>\n",
       "      <th>0</th>\n",
       "      <td>14.23</td>\n",
       "      <td>1.71</td>\n",
       "      <td>2.43</td>\n",
       "      <td>15.6</td>\n",
       "      <td>127.0</td>\n",
       "      <td>2.80</td>\n",
       "      <td>3.06</td>\n",
       "      <td>0.28</td>\n",
       "      <td>2.29</td>\n",
       "      <td>5.64</td>\n",
       "      <td>1.04</td>\n",
       "      <td>3.92</td>\n",
       "      <td>1065.0</td>\n",
       "      <td>class_0</td>\n",
       "    </tr>\n",
       "    <tr>\n",
       "      <th>1</th>\n",
       "      <td>13.20</td>\n",
       "      <td>1.78</td>\n",
       "      <td>2.14</td>\n",
       "      <td>11.2</td>\n",
       "      <td>100.0</td>\n",
       "      <td>2.65</td>\n",
       "      <td>2.76</td>\n",
       "      <td>0.26</td>\n",
       "      <td>1.28</td>\n",
       "      <td>4.38</td>\n",
       "      <td>1.05</td>\n",
       "      <td>3.40</td>\n",
       "      <td>1050.0</td>\n",
       "      <td>class_0</td>\n",
       "    </tr>\n",
       "    <tr>\n",
       "      <th>2</th>\n",
       "      <td>13.16</td>\n",
       "      <td>2.36</td>\n",
       "      <td>2.67</td>\n",
       "      <td>18.6</td>\n",
       "      <td>101.0</td>\n",
       "      <td>2.80</td>\n",
       "      <td>3.24</td>\n",
       "      <td>0.30</td>\n",
       "      <td>2.81</td>\n",
       "      <td>5.68</td>\n",
       "      <td>1.03</td>\n",
       "      <td>3.17</td>\n",
       "      <td>1185.0</td>\n",
       "      <td>class_0</td>\n",
       "    </tr>\n",
       "    <tr>\n",
       "      <th>3</th>\n",
       "      <td>14.37</td>\n",
       "      <td>1.95</td>\n",
       "      <td>2.50</td>\n",
       "      <td>16.8</td>\n",
       "      <td>113.0</td>\n",
       "      <td>3.85</td>\n",
       "      <td>3.49</td>\n",
       "      <td>0.24</td>\n",
       "      <td>2.18</td>\n",
       "      <td>7.80</td>\n",
       "      <td>0.86</td>\n",
       "      <td>3.45</td>\n",
       "      <td>1480.0</td>\n",
       "      <td>class_0</td>\n",
       "    </tr>\n",
       "    <tr>\n",
       "      <th>4</th>\n",
       "      <td>13.24</td>\n",
       "      <td>2.59</td>\n",
       "      <td>2.87</td>\n",
       "      <td>21.0</td>\n",
       "      <td>118.0</td>\n",
       "      <td>2.80</td>\n",
       "      <td>2.69</td>\n",
       "      <td>0.39</td>\n",
       "      <td>1.82</td>\n",
       "      <td>4.32</td>\n",
       "      <td>1.04</td>\n",
       "      <td>2.93</td>\n",
       "      <td>735.0</td>\n",
       "      <td>class_0</td>\n",
       "    </tr>\n",
       "    <tr>\n",
       "      <th>...</th>\n",
       "      <td>...</td>\n",
       "      <td>...</td>\n",
       "      <td>...</td>\n",
       "      <td>...</td>\n",
       "      <td>...</td>\n",
       "      <td>...</td>\n",
       "      <td>...</td>\n",
       "      <td>...</td>\n",
       "      <td>...</td>\n",
       "      <td>...</td>\n",
       "      <td>...</td>\n",
       "      <td>...</td>\n",
       "      <td>...</td>\n",
       "      <td>...</td>\n",
       "    </tr>\n",
       "    <tr>\n",
       "      <th>173</th>\n",
       "      <td>13.71</td>\n",
       "      <td>5.65</td>\n",
       "      <td>2.45</td>\n",
       "      <td>20.5</td>\n",
       "      <td>95.0</td>\n",
       "      <td>1.68</td>\n",
       "      <td>0.61</td>\n",
       "      <td>0.52</td>\n",
       "      <td>1.06</td>\n",
       "      <td>7.70</td>\n",
       "      <td>0.64</td>\n",
       "      <td>1.74</td>\n",
       "      <td>740.0</td>\n",
       "      <td>class_2</td>\n",
       "    </tr>\n",
       "    <tr>\n",
       "      <th>174</th>\n",
       "      <td>13.40</td>\n",
       "      <td>3.91</td>\n",
       "      <td>2.48</td>\n",
       "      <td>23.0</td>\n",
       "      <td>102.0</td>\n",
       "      <td>1.80</td>\n",
       "      <td>0.75</td>\n",
       "      <td>0.43</td>\n",
       "      <td>1.41</td>\n",
       "      <td>7.30</td>\n",
       "      <td>0.70</td>\n",
       "      <td>1.56</td>\n",
       "      <td>750.0</td>\n",
       "      <td>class_2</td>\n",
       "    </tr>\n",
       "    <tr>\n",
       "      <th>175</th>\n",
       "      <td>13.27</td>\n",
       "      <td>4.28</td>\n",
       "      <td>2.26</td>\n",
       "      <td>20.0</td>\n",
       "      <td>120.0</td>\n",
       "      <td>1.59</td>\n",
       "      <td>0.69</td>\n",
       "      <td>0.43</td>\n",
       "      <td>1.35</td>\n",
       "      <td>10.20</td>\n",
       "      <td>0.59</td>\n",
       "      <td>1.56</td>\n",
       "      <td>835.0</td>\n",
       "      <td>class_2</td>\n",
       "    </tr>\n",
       "    <tr>\n",
       "      <th>176</th>\n",
       "      <td>13.17</td>\n",
       "      <td>2.59</td>\n",
       "      <td>2.37</td>\n",
       "      <td>20.0</td>\n",
       "      <td>120.0</td>\n",
       "      <td>1.65</td>\n",
       "      <td>0.68</td>\n",
       "      <td>0.53</td>\n",
       "      <td>1.46</td>\n",
       "      <td>9.30</td>\n",
       "      <td>0.60</td>\n",
       "      <td>1.62</td>\n",
       "      <td>840.0</td>\n",
       "      <td>class_2</td>\n",
       "    </tr>\n",
       "    <tr>\n",
       "      <th>177</th>\n",
       "      <td>14.13</td>\n",
       "      <td>4.10</td>\n",
       "      <td>2.74</td>\n",
       "      <td>24.5</td>\n",
       "      <td>96.0</td>\n",
       "      <td>2.05</td>\n",
       "      <td>0.76</td>\n",
       "      <td>0.56</td>\n",
       "      <td>1.35</td>\n",
       "      <td>9.20</td>\n",
       "      <td>0.61</td>\n",
       "      <td>1.60</td>\n",
       "      <td>560.0</td>\n",
       "      <td>class_2</td>\n",
       "    </tr>\n",
       "  </tbody>\n",
       "</table>\n",
       "<p>178 rows × 14 columns</p>\n",
       "</div>"
      ],
      "text/plain": [
       "     alcohol  malic_acid   ash  alcalinity_of_ash  magnesium  total_phenols  \\\n",
       "0      14.23        1.71  2.43               15.6      127.0           2.80   \n",
       "1      13.20        1.78  2.14               11.2      100.0           2.65   \n",
       "2      13.16        2.36  2.67               18.6      101.0           2.80   \n",
       "3      14.37        1.95  2.50               16.8      113.0           3.85   \n",
       "4      13.24        2.59  2.87               21.0      118.0           2.80   \n",
       "..       ...         ...   ...                ...        ...            ...   \n",
       "173    13.71        5.65  2.45               20.5       95.0           1.68   \n",
       "174    13.40        3.91  2.48               23.0      102.0           1.80   \n",
       "175    13.27        4.28  2.26               20.0      120.0           1.59   \n",
       "176    13.17        2.59  2.37               20.0      120.0           1.65   \n",
       "177    14.13        4.10  2.74               24.5       96.0           2.05   \n",
       "\n",
       "     flavanoids  nonflavanoid_phenols  proanthocyanins  color_intensity   hue  \\\n",
       "0          3.06                  0.28             2.29             5.64  1.04   \n",
       "1          2.76                  0.26             1.28             4.38  1.05   \n",
       "2          3.24                  0.30             2.81             5.68  1.03   \n",
       "3          3.49                  0.24             2.18             7.80  0.86   \n",
       "4          2.69                  0.39             1.82             4.32  1.04   \n",
       "..          ...                   ...              ...              ...   ...   \n",
       "173        0.61                  0.52             1.06             7.70  0.64   \n",
       "174        0.75                  0.43             1.41             7.30  0.70   \n",
       "175        0.69                  0.43             1.35            10.20  0.59   \n",
       "176        0.68                  0.53             1.46             9.30  0.60   \n",
       "177        0.76                  0.56             1.35             9.20  0.61   \n",
       "\n",
       "     od280/od315_of_diluted_wines  proline WineType  \n",
       "0                            3.92   1065.0  class_0  \n",
       "1                            3.40   1050.0  class_0  \n",
       "2                            3.17   1185.0  class_0  \n",
       "3                            3.45   1480.0  class_0  \n",
       "4                            2.93    735.0  class_0  \n",
       "..                            ...      ...      ...  \n",
       "173                          1.74    740.0  class_2  \n",
       "174                          1.56    750.0  class_2  \n",
       "175                          1.56    835.0  class_2  \n",
       "176                          1.62    840.0  class_2  \n",
       "177                          1.60    560.0  class_2  \n",
       "\n",
       "[178 rows x 14 columns]"
      ]
     },
     "execution_count": 16,
     "metadata": {},
     "output_type": "execute_result"
    }
   ],
   "source": [
    "from  sklearn import datasets\n",
    "import pandas as pd\n",
    "wine=datasets.load_wine()\n",
    "wine_df=pd.DataFrame(df1.data,columns=df1.feature_names)\n",
    "wine_df[\"WineType\"]=[df1.target_names[typ]for typ in df1.target]\n",
    "wine_df"
   ]
  },
  {
   "cell_type": "code",
   "execution_count": null,
   "id": "991060de",
   "metadata": {},
   "outputs": [],
   "source": []
  },
  {
   "cell_type": "code",
   "execution_count": null,
   "id": "7d121dd8",
   "metadata": {},
   "outputs": [],
   "source": []
  }
 ],
 "metadata": {
  "kernelspec": {
   "display_name": "Python 3 (ipykernel)",
   "language": "python",
   "name": "python3"
  },
  "language_info": {
   "codemirror_mode": {
    "name": "ipython",
    "version": 3
   },
   "file_extension": ".py",
   "mimetype": "text/x-python",
   "name": "python",
   "nbconvert_exporter": "python",
   "pygments_lexer": "ipython3",
   "version": "3.11.4"
  }
 },
 "nbformat": 4,
 "nbformat_minor": 5
}
